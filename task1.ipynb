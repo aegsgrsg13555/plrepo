{
 "cells": [
  {
   "cell_type": "code",
   "execution_count": 1,
   "id": "65be9071",
   "metadata": {},
   "outputs": [],
   "source": [
    "import pandas as pd\n",
    "\n",
    "# read csv file\n",
    "rank2021 = pd.read_csv(\"20~21.csv\")\n",
    "rank2122 = pd.read_csv(\"21~22.csv\")\n",
    "rank2021"
   ]
  },
  {
   "cell_type": "code",
   "execution_count": 2,
   "id": "ebb829de",
   "metadata": {},
   "outputs": [
    {
     "name": "stdout",
     "output_type": "stream",
     "text": [
      "my name is bobo\n"
     ]
    }
   ],
   "source": [
    "rank2122"
   ]
  },
  {
   "cell_type": "code",
   "execution_count": 3,
   "id": "b3140ae7",
   "metadata": {},
   "outputs": [
    {
     "ename": "NameError",
     "evalue": "name 'rank2021' is not defined",
     "output_type": "error",
     "traceback": [
      "\u001b[1;31m---------------------------------------------------------------------------\u001b[0m",
      "\u001b[1;31mNameError\u001b[0m                                 Traceback (most recent call last)",
      "\u001b[1;32m~\\AppData\\Local\\Temp\\ipykernel_30036\\3672296627.py\u001b[0m in \u001b[0;36m<module>\u001b[1;34m\u001b[0m\n\u001b[1;32m----> 1\u001b[1;33m \u001b[0malldata1\u001b[0m \u001b[1;33m=\u001b[0m \u001b[0mlist\u001b[0m\u001b[1;33m(\u001b[0m\u001b[0mrank2021\u001b[0m\u001b[1;33m[\u001b[0m\u001b[1;34m'球隊'\u001b[0m\u001b[1;33m]\u001b[0m\u001b[1;33m)\u001b[0m\u001b[1;33m\u001b[0m\u001b[1;33m\u001b[0m\u001b[0m\n\u001b[0m\u001b[0;32m      2\u001b[0m \u001b[0malldata1\u001b[0m\u001b[1;33m\u001b[0m\u001b[1;33m\u001b[0m\u001b[0m\n",
      "\u001b[1;31mNameError\u001b[0m: name 'rank2021' is not defined"
     ]
    }
   ],
   "source": [
    "alldata1 = list(rank2021['球隊'])\n",
    "alldata1"
   ]
  },
  {
   "cell_type": "code",
   "execution_count": 4,
   "id": "9fb4e96d",
   "metadata": {},
   "outputs": [
    {
     "ename": "NameError",
     "evalue": "name 'rank2122' is not defined",
     "output_type": "error",
     "traceback": [
      "\u001b[1;31m---------------------------------------------------------------------------\u001b[0m",
      "\u001b[1;31mNameError\u001b[0m                                 Traceback (most recent call last)",
      "\u001b[1;32m~\\AppData\\Local\\Temp\\ipykernel_30036\\2328904559.py\u001b[0m in \u001b[0;36m<module>\u001b[1;34m\u001b[0m\n\u001b[1;32m----> 1\u001b[1;33m \u001b[0malldata2\u001b[0m \u001b[1;33m=\u001b[0m \u001b[0mlist\u001b[0m\u001b[1;33m(\u001b[0m\u001b[0mrank2122\u001b[0m\u001b[1;33m[\u001b[0m\u001b[1;34m'球隊'\u001b[0m\u001b[1;33m]\u001b[0m\u001b[1;33m)\u001b[0m\u001b[1;33m\u001b[0m\u001b[1;33m\u001b[0m\u001b[0m\n\u001b[0m\u001b[0;32m      2\u001b[0m \u001b[0malldata2\u001b[0m\u001b[1;33m\u001b[0m\u001b[1;33m\u001b[0m\u001b[0m\n",
      "\u001b[1;31mNameError\u001b[0m: name 'rank2122' is not defined"
     ]
    }
   ],
   "source": [
    "alldata2 = list(rank2122['球隊'])\n",
    "alldata2"
   ]
  },
  {
   "cell_type": "code",
   "execution_count": 5,
   "id": "09e98e1d",
   "metadata": {},
   "outputs": [
    {
     "name": "stdout",
     "output_type": "stream",
     "text": [
      "{'獨行俠', '爵士', '太陽'}\n",
      "{'金塊', '快艇', '灰熊', '太陽', '爵士', '勇士', '獨行俠'}\n",
      "{'金塊', '快艇'}\n",
      "{'灰熊', '勇士', '金塊', '快艇'}\n"
     ]
    }
   ],
   "source": [
    "A1 = {'爵士', '太陽', '金塊', '快艇', '獨行俠'}\n",
    "A2 = {'太陽', '灰熊', '勇士', '獨行俠', '爵士'}\n",
    "\n",
    "print (A1&A2)\n",
    "print (A1|A2)\n",
    "print (A1-A2)\n",
    "print ((A1|A2)-(A1&A2))"
   ]
  },
  {
   "cell_type": "code",
   "execution_count": null,
   "id": "839b60dc",
   "metadata": {},
   "outputs": [],
   "source": []
  }
 ],
 "metadata": {
  "kernelspec": {
   "display_name": "Python 3 (ipykernel)",
   "language": "python",
   "name": "python3"
  },
  "language_info": {
   "codemirror_mode": {
    "name": "ipython",
    "version": 3
   },
   "file_extension": ".py",
   "mimetype": "text/x-python",
   "name": "python",
   "nbconvert_exporter": "python",
   "pygments_lexer": "ipython3",
   "version": "3.9.13"
  }
 },
 "nbformat": 4,
 "nbformat_minor": 5
}
